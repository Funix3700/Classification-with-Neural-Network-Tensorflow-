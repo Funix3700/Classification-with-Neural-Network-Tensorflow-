{
 "cells": [
  {
   "cell_type": "code",
   "execution_count": 304,
   "id": "9e0af418",
   "metadata": {},
   "outputs": [],
   "source": [
    "import pandas as pd\n",
    "import numpy as np\n",
    "import joblib\n",
    "from sklearn.model_selection import train_test_split\n",
    "from sklearn.preprocessing import LabelEncoder\n",
    "from sklearn.metrics import accuracy_score\n",
    "from tensorflow.keras.utils import to_categorical\n",
    "from tensorflow.keras.preprocessing.text import Tokenizer\n",
    "from tensorflow.keras.preprocessing.sequence import pad_sequences\n",
    "from tensorflow.keras.models import Sequential\n",
    "from tensorflow.keras.layers import Embedding, GlobalAveragePooling1D, Dense"
   ]
  },
  {
   "cell_type": "code",
   "execution_count": 305,
   "id": "b5c006c5",
   "metadata": {},
   "outputs": [],
   "source": [
    "df = pd.read_csv(\"data_data_berita_detik (1).csv\")"
   ]
  },
  {
   "cell_type": "code",
   "execution_count": 306,
   "id": "a66ad9fe",
   "metadata": {},
   "outputs": [
    {
     "data": {
      "text/html": [
       "<div>\n",
       "<style scoped>\n",
       "    .dataframe tbody tr th:only-of-type {\n",
       "        vertical-align: middle;\n",
       "    }\n",
       "\n",
       "    .dataframe tbody tr th {\n",
       "        vertical-align: top;\n",
       "    }\n",
       "\n",
       "    .dataframe thead th {\n",
       "        text-align: right;\n",
       "    }\n",
       "</style>\n",
       "<table border=\"1\" class=\"dataframe\">\n",
       "  <thead>\n",
       "    <tr style=\"text-align: right;\">\n",
       "      <th></th>\n",
       "      <th>judul</th>\n",
       "      <th>tanggal</th>\n",
       "      <th>isi</th>\n",
       "      <th>url</th>\n",
       "      <th>kategori</th>\n",
       "    </tr>\n",
       "  </thead>\n",
       "  <tbody>\n",
       "    <tr>\n",
       "      <th>0</th>\n",
       "      <td>Boston Celtics dan Ironi Kyrie Irving</td>\n",
       "      <td>Selasa, 18 Jun 2024 13:45 WIB</td>\n",
       "      <td>Jakarta - Boston Celtics jadi juara NBA 2024. ...</td>\n",
       "      <td>https://sport.detik.com/basket/d-7396168/bosto...</td>\n",
       "      <td>Olahraga</td>\n",
       "    </tr>\n",
       "    <tr>\n",
       "      <th>1</th>\n",
       "      <td>Boston Celtics Juara NBA 2024, Gelar ke-18</td>\n",
       "      <td>Selasa, 18 Jun 2024 12:15 WIB</td>\n",
       "      <td>Jakarta - Boston Celtics mengalahkan Dallas Ma...</td>\n",
       "      <td>https://sport.detik.com/basket/d-7396066/bosto...</td>\n",
       "      <td>Olahraga</td>\n",
       "    </tr>\n",
       "    <tr>\n",
       "      <th>2</th>\n",
       "      <td>Titik Nadir Khamzat Chimaev</td>\n",
       "      <td>Selasa, 18 Jun 2024 11:15 WIB</td>\n",
       "      <td>Jakarta - Sempat jadi kejutan di UFC, selanjut...</td>\n",
       "      <td>https://sport.detik.com/sport-lain/d-7395950/t...</td>\n",
       "      <td>Olahraga</td>\n",
       "    </tr>\n",
       "    <tr>\n",
       "      <th>3</th>\n",
       "      <td>Situasi Sulit Joan Mir: Mau Tinggalkan Honda, ...</td>\n",
       "      <td>Senin, 17 Jun 2024 20:30 WIB</td>\n",
       "      <td>Jakarta - Joan Mir belum mendapatkan tim untuk...</td>\n",
       "      <td>https://sport.detik.com/moto-gp/d-7395407/situ...</td>\n",
       "      <td>Olahraga</td>\n",
       "    </tr>\n",
       "    <tr>\n",
       "      <th>4</th>\n",
       "      <td>Eng Hian Sebut Olimpiade 2024 Lebih Berat dari...</td>\n",
       "      <td>Senin, 17 Jun 2024 18:20 WIB</td>\n",
       "      <td>Jakarta - Pelatih ganda putri Eng Hian menyebu...</td>\n",
       "      <td>https://sport.detik.com/raket/d-7395283/eng-hi...</td>\n",
       "      <td>Olahraga</td>\n",
       "    </tr>\n",
       "  </tbody>\n",
       "</table>\n",
       "</div>"
      ],
      "text/plain": [
       "                                               judul  \\\n",
       "0              Boston Celtics dan Ironi Kyrie Irving   \n",
       "1         Boston Celtics Juara NBA 2024, Gelar ke-18   \n",
       "2                        Titik Nadir Khamzat Chimaev   \n",
       "3  Situasi Sulit Joan Mir: Mau Tinggalkan Honda, ...   \n",
       "4  Eng Hian Sebut Olimpiade 2024 Lebih Berat dari...   \n",
       "\n",
       "                         tanggal  \\\n",
       "0  Selasa, 18 Jun 2024 13:45 WIB   \n",
       "1  Selasa, 18 Jun 2024 12:15 WIB   \n",
       "2  Selasa, 18 Jun 2024 11:15 WIB   \n",
       "3   Senin, 17 Jun 2024 20:30 WIB   \n",
       "4   Senin, 17 Jun 2024 18:20 WIB   \n",
       "\n",
       "                                                 isi  \\\n",
       "0  Jakarta - Boston Celtics jadi juara NBA 2024. ...   \n",
       "1  Jakarta - Boston Celtics mengalahkan Dallas Ma...   \n",
       "2  Jakarta - Sempat jadi kejutan di UFC, selanjut...   \n",
       "3  Jakarta - Joan Mir belum mendapatkan tim untuk...   \n",
       "4  Jakarta - Pelatih ganda putri Eng Hian menyebu...   \n",
       "\n",
       "                                                 url  kategori  \n",
       "0  https://sport.detik.com/basket/d-7396168/bosto...  Olahraga  \n",
       "1  https://sport.detik.com/basket/d-7396066/bosto...  Olahraga  \n",
       "2  https://sport.detik.com/sport-lain/d-7395950/t...  Olahraga  \n",
       "3  https://sport.detik.com/moto-gp/d-7395407/situ...  Olahraga  \n",
       "4  https://sport.detik.com/raket/d-7395283/eng-hi...  Olahraga  "
      ]
     },
     "execution_count": 306,
     "metadata": {},
     "output_type": "execute_result"
    }
   ],
   "source": [
    "df.head()"
   ]
  },
  {
   "cell_type": "code",
   "execution_count": 307,
   "id": "dec7a03b",
   "metadata": {},
   "outputs": [],
   "source": [
    "def clean_text(text):\n",
    "    text = text.lower()\n",
    "    text = text.replace(\",\", \"\")\n",
    "    text = text.replace('\"', \"\")\n",
    "    text = text.replace(\"-\", \"\")\n",
    "    text = text.replace(\".\", \"\")\n",
    "    text = text.replace(\":\", \"\")\n",
    "    text = text.replace(\")\", \"\")\n",
    "    text = text.replace(\"(\", \"\")\n",
    "    text = text.replace(\"/\", \"\")\n",
    "    text = text.replace(\"\\n\", \"\")\n",
    "    return text"
   ]
  },
  {
   "cell_type": "code",
   "execution_count": 322,
   "id": "d30fcdd1",
   "metadata": {},
   "outputs": [
    {
     "data": {
      "text/plain": [
       "array(['Olahraga', 'Kesehatan', 'Pariwisata', 'Pendidikan', 'Otomotif',\n",
       "       'Kuliner', 'Keuangan'], dtype=object)"
      ]
     },
     "execution_count": 322,
     "metadata": {},
     "output_type": "execute_result"
    }
   ],
   "source": [
    "df['kategori'].unique()"
   ]
  },
  {
   "cell_type": "code",
   "execution_count": 308,
   "id": "803ff775",
   "metadata": {},
   "outputs": [],
   "source": [
    "df.drop(columns=['tanggal', 'url'], inplace=True)\n",
    "df['isi'] = df['isi'].apply(clean_text)\n",
    "df['judul'] = df['judul'].apply(clean_text)\n",
    "df['content'] = df['judul'] + \" \" + df['isi']"
   ]
  },
  {
   "cell_type": "code",
   "execution_count": 309,
   "id": "5f70398c",
   "metadata": {},
   "outputs": [],
   "source": [
    "X = df['content']\n",
    "y = df['kategori']"
   ]
  },
  {
   "cell_type": "code",
   "execution_count": 310,
   "id": "578885a6",
   "metadata": {},
   "outputs": [],
   "source": [
    "encoder = LabelEncoder()\n",
    "y_encoded = encoder.fit_transform(y)"
   ]
  },
  {
   "cell_type": "code",
   "execution_count": 311,
   "id": "27526d63",
   "metadata": {},
   "outputs": [],
   "source": [
    "X_train, X_test, y_train, y_test = train_test_split(X, y_encoded, test_size=0.2, random_state=42)"
   ]
  },
  {
   "cell_type": "code",
   "execution_count": 312,
   "id": "bf0453ad",
   "metadata": {},
   "outputs": [],
   "source": [
    "y_train_cat = to_categorical(y_train)\n",
    "y_test_cat = to_categorical(y_test)"
   ]
  },
  {
   "cell_type": "code",
   "execution_count": 313,
   "id": "204a3302",
   "metadata": {},
   "outputs": [],
   "source": [
    "tokenizer = Tokenizer(num_words=1000)\n",
    "tokenizer.fit_on_texts(X_train)\n",
    "\n",
    "X_train_seq = tokenizer.texts_to_sequences(X_train)\n",
    "X_train_pad = pad_sequences(X_train_seq, padding=\"post\", maxlen=50)\n",
    "X_test_seq = tokenizer.texts_to_sequences(X_test)\n",
    "X_test_pad = pad_sequences(X_test_seq, padding=\"post\", maxlen=50)"
   ]
  },
  {
   "cell_type": "code",
   "execution_count": 314,
   "id": "159b9e56",
   "metadata": {},
   "outputs": [],
   "source": [
    "model = Sequential()\n",
    "model.add(Embedding(input_dim=1000, output_dim=16)) # Mengubah token menjadi vektor yang bisa di mengerti neural network\n",
    "model.add(GlobalAveragePooling1D()) # Mengambil rata rata dari semua kata\n",
    "model.add(Dense(64, activation=\"relu\"))\n",
    "model.add(Dense(32, activation=\"relu\"))\n",
    "model.add(Dense(len(df['kategori'].unique()), activation=\"softmax\"))"
   ]
  },
  {
   "cell_type": "code",
   "execution_count": 315,
   "id": "5cc17ab1",
   "metadata": {},
   "outputs": [],
   "source": [
    "model.compile(loss='categorical_crossentropy', optimizer='adam', metrics=['accuracy'])"
   ]
  },
  {
   "cell_type": "code",
   "execution_count": 316,
   "id": "af86efcf",
   "metadata": {},
   "outputs": [
    {
     "name": "stdout",
     "output_type": "stream",
     "text": [
      "Epoch 1/100\n",
      "175/175 [==============================] - 1s 947us/step - loss: 1.7127 - accuracy: 0.3486\n",
      "Epoch 2/100\n",
      "175/175 [==============================] - 0s 947us/step - loss: 0.7709 - accuracy: 0.7798\n",
      "Epoch 3/100\n",
      "175/175 [==============================] - 0s 913us/step - loss: 0.4546 - accuracy: 0.8546\n",
      "Epoch 4/100\n",
      "175/175 [==============================] - 0s 987us/step - loss: 0.3435 - accuracy: 0.8912\n",
      "Epoch 5/100\n",
      "175/175 [==============================] - 0s 977us/step - loss: 0.2778 - accuracy: 0.9130\n",
      "Epoch 6/100\n",
      "175/175 [==============================] - 0s 1ms/step - loss: 0.2275 - accuracy: 0.9355\n",
      "Epoch 7/100\n",
      "175/175 [==============================] - 0s 930us/step - loss: 0.1956 - accuracy: 0.9400\n",
      "Epoch 8/100\n",
      "175/175 [==============================] - 0s 949us/step - loss: 0.1649 - accuracy: 0.9536\n",
      "Epoch 9/100\n",
      "175/175 [==============================] - 0s 988us/step - loss: 0.1428 - accuracy: 0.9582\n",
      "Epoch 10/100\n",
      "175/175 [==============================] - 0s 944us/step - loss: 0.1241 - accuracy: 0.9646\n",
      "Epoch 11/100\n",
      "175/175 [==============================] - 0s 938us/step - loss: 0.1066 - accuracy: 0.9700\n",
      "Epoch 12/100\n",
      "175/175 [==============================] - 0s 928us/step - loss: 0.0931 - accuracy: 0.9754\n",
      "Epoch 13/100\n",
      "175/175 [==============================] - 0s 931us/step - loss: 0.0808 - accuracy: 0.9802\n",
      "Epoch 14/100\n",
      "175/175 [==============================] - 0s 943us/step - loss: 0.0696 - accuracy: 0.9834\n",
      "Epoch 15/100\n",
      "175/175 [==============================] - 0s 925us/step - loss: 0.0591 - accuracy: 0.9871\n",
      "Epoch 16/100\n",
      "175/175 [==============================] - 0s 921us/step - loss: 0.0505 - accuracy: 0.9889\n",
      "Epoch 17/100\n",
      "175/175 [==============================] - 0s 937us/step - loss: 0.0448 - accuracy: 0.9911\n",
      "Epoch 18/100\n",
      "175/175 [==============================] - 0s 1ms/step - loss: 0.0391 - accuracy: 0.9920\n",
      "Epoch 19/100\n",
      "175/175 [==============================] - 0s 1ms/step - loss: 0.0363 - accuracy: 0.9930\n",
      "Epoch 20/100\n",
      "175/175 [==============================] - 0s 1ms/step - loss: 0.0296 - accuracy: 0.9945\n",
      "Epoch 21/100\n",
      "175/175 [==============================] - 0s 1ms/step - loss: 0.0273 - accuracy: 0.9941\n",
      "Epoch 22/100\n",
      "175/175 [==============================] - 0s 950us/step - loss: 0.0231 - accuracy: 0.9955\n",
      "Epoch 23/100\n",
      "175/175 [==============================] - 0s 936us/step - loss: 0.0199 - accuracy: 0.9959\n",
      "Epoch 24/100\n",
      "175/175 [==============================] - 0s 1ms/step - loss: 0.0185 - accuracy: 0.9957\n",
      "Epoch 25/100\n",
      "175/175 [==============================] - 0s 1ms/step - loss: 0.0152 - accuracy: 0.9977\n",
      "Epoch 26/100\n",
      "175/175 [==============================] - 0s 1ms/step - loss: 0.0145 - accuracy: 0.9975\n",
      "Epoch 27/100\n",
      "175/175 [==============================] - 0s 996us/step - loss: 0.0129 - accuracy: 0.9970\n",
      "Epoch 28/100\n",
      "175/175 [==============================] - 0s 965us/step - loss: 0.0131 - accuracy: 0.9973\n",
      "Epoch 29/100\n",
      "175/175 [==============================] - 0s 955us/step - loss: 0.0107 - accuracy: 0.9984\n",
      "Epoch 30/100\n",
      "175/175 [==============================] - 0s 989us/step - loss: 0.0099 - accuracy: 0.9977\n",
      "Epoch 31/100\n",
      "175/175 [==============================] - 0s 1ms/step - loss: 0.0096 - accuracy: 0.9980\n",
      "Epoch 32/100\n",
      "175/175 [==============================] - 0s 1ms/step - loss: 0.0075 - accuracy: 0.9984\n",
      "Epoch 33/100\n",
      "175/175 [==============================] - 0s 987us/step - loss: 0.0078 - accuracy: 0.9986\n",
      "Epoch 34/100\n",
      "175/175 [==============================] - 0s 926us/step - loss: 0.0067 - accuracy: 0.9989\n",
      "Epoch 35/100\n",
      "175/175 [==============================] - 0s 970us/step - loss: 0.0069 - accuracy: 0.9982\n",
      "Epoch 36/100\n",
      "175/175 [==============================] - 0s 943us/step - loss: 0.0082 - accuracy: 0.9982\n",
      "Epoch 37/100\n",
      "175/175 [==============================] - 0s 991us/step - loss: 0.0081 - accuracy: 0.9984\n",
      "Epoch 38/100\n",
      "175/175 [==============================] - 0s 2ms/step - loss: 0.0065 - accuracy: 0.9986\n",
      "Epoch 39/100\n",
      "175/175 [==============================] - 0s 2ms/step - loss: 0.0073 - accuracy: 0.9980\n",
      "Epoch 40/100\n",
      "175/175 [==============================] - 0s 2ms/step - loss: 0.0068 - accuracy: 0.9982\n",
      "Epoch 41/100\n",
      "175/175 [==============================] - 0s 1ms/step - loss: 0.0059 - accuracy: 0.9984\n",
      "Epoch 42/100\n",
      "175/175 [==============================] - 0s 1ms/step - loss: 0.0050 - accuracy: 0.9987\n",
      "Epoch 43/100\n",
      "175/175 [==============================] - 0s 968us/step - loss: 0.0041 - accuracy: 0.9993\n",
      "Epoch 44/100\n",
      "175/175 [==============================] - 0s 1ms/step - loss: 0.0070 - accuracy: 0.9977\n",
      "Epoch 45/100\n",
      "175/175 [==============================] - 0s 1ms/step - loss: 0.0083 - accuracy: 0.9975\n",
      "Epoch 46/100\n",
      "175/175 [==============================] - 0s 1ms/step - loss: 0.0096 - accuracy: 0.9970\n",
      "Epoch 47/100\n",
      "175/175 [==============================] - 0s 1ms/step - loss: 0.0126 - accuracy: 0.9959\n",
      "Epoch 48/100\n",
      "175/175 [==============================] - 0s 1ms/step - loss: 0.0073 - accuracy: 0.9986\n",
      "Epoch 49/100\n",
      "175/175 [==============================] - 0s 1ms/step - loss: 0.0056 - accuracy: 0.9986\n",
      "Epoch 50/100\n",
      "175/175 [==============================] - 0s 1ms/step - loss: 0.0054 - accuracy: 0.9980\n",
      "Epoch 51/100\n",
      "175/175 [==============================] - 0s 966us/step - loss: 0.0064 - accuracy: 0.9982\n",
      "Epoch 52/100\n",
      "175/175 [==============================] - 0s 1ms/step - loss: 0.0045 - accuracy: 0.9986\n",
      "Epoch 53/100\n",
      "175/175 [==============================] - 0s 990us/step - loss: 0.0043 - accuracy: 0.9986\n",
      "Epoch 54/100\n",
      "175/175 [==============================] - 0s 988us/step - loss: 0.0049 - accuracy: 0.9986\n",
      "Epoch 55/100\n",
      "175/175 [==============================] - 0s 1ms/step - loss: 0.0053 - accuracy: 0.9982\n",
      "Epoch 56/100\n",
      "175/175 [==============================] - 0s 992us/step - loss: 0.0058 - accuracy: 0.9980\n",
      "Epoch 57/100\n",
      "175/175 [==============================] - 0s 1ms/step - loss: 0.0052 - accuracy: 0.9984\n",
      "Epoch 58/100\n",
      "175/175 [==============================] - 0s 1ms/step - loss: 0.0038 - accuracy: 0.9989\n",
      "Epoch 59/100\n",
      "175/175 [==============================] - 0s 1ms/step - loss: 0.0044 - accuracy: 0.9987\n",
      "Epoch 60/100\n",
      "175/175 [==============================] - 0s 1ms/step - loss: 0.0056 - accuracy: 0.9980\n",
      "Epoch 61/100\n",
      "175/175 [==============================] - 0s 1ms/step - loss: 0.0042 - accuracy: 0.9989\n",
      "Epoch 62/100\n",
      "175/175 [==============================] - 0s 990us/step - loss: 0.0056 - accuracy: 0.9984\n",
      "Epoch 63/100\n",
      "175/175 [==============================] - 0s 979us/step - loss: 0.0037 - accuracy: 0.9989\n",
      "Epoch 64/100\n",
      "175/175 [==============================] - 0s 1ms/step - loss: 0.0044 - accuracy: 0.9984\n",
      "Epoch 65/100\n",
      "175/175 [==============================] - 0s 1ms/step - loss: 0.0042 - accuracy: 0.9987\n",
      "Epoch 66/100\n",
      "175/175 [==============================] - 0s 1ms/step - loss: 0.0056 - accuracy: 0.9980\n",
      "Epoch 67/100\n",
      "175/175 [==============================] - 0s 1ms/step - loss: 0.0053 - accuracy: 0.9980\n",
      "Epoch 68/100\n",
      "175/175 [==============================] - 0s 1ms/step - loss: 0.0058 - accuracy: 0.9982\n",
      "Epoch 69/100\n",
      "175/175 [==============================] - 0s 1ms/step - loss: 0.0128 - accuracy: 0.9961\n",
      "Epoch 70/100\n",
      "175/175 [==============================] - 0s 1ms/step - loss: 0.0204 - accuracy: 0.9925\n",
      "Epoch 71/100\n",
      "175/175 [==============================] - 0s 1ms/step - loss: 0.0087 - accuracy: 0.9970\n",
      "Epoch 72/100\n",
      "175/175 [==============================] - 0s 1ms/step - loss: 0.0048 - accuracy: 0.9984\n",
      "Epoch 73/100\n",
      "175/175 [==============================] - 0s 1ms/step - loss: 0.0046 - accuracy: 0.9982\n",
      "Epoch 74/100\n",
      "175/175 [==============================] - 0s 983us/step - loss: 0.0053 - accuracy: 0.9984\n",
      "Epoch 75/100\n",
      "175/175 [==============================] - 0s 955us/step - loss: 0.0037 - accuracy: 0.9986\n",
      "Epoch 76/100\n",
      "175/175 [==============================] - 0s 1ms/step - loss: 0.0040 - accuracy: 0.9982\n",
      "Epoch 77/100\n",
      "175/175 [==============================] - 0s 1ms/step - loss: 0.0046 - accuracy: 0.9984\n",
      "Epoch 78/100\n",
      "175/175 [==============================] - 0s 1ms/step - loss: 0.0035 - accuracy: 0.9991\n",
      "Epoch 79/100\n",
      "175/175 [==============================] - 0s 1ms/step - loss: 0.0044 - accuracy: 0.9989\n",
      "Epoch 80/100\n",
      "175/175 [==============================] - 0s 1ms/step - loss: 0.0052 - accuracy: 0.9986\n",
      "Epoch 81/100\n",
      "175/175 [==============================] - 0s 1ms/step - loss: 0.0048 - accuracy: 0.9984\n",
      "Epoch 82/100\n",
      "175/175 [==============================] - 0s 956us/step - loss: 0.0044 - accuracy: 0.9987\n",
      "Epoch 83/100\n",
      "175/175 [==============================] - 0s 946us/step - loss: 0.0031 - accuracy: 0.9984\n",
      "Epoch 84/100\n",
      "175/175 [==============================] - 0s 960us/step - loss: 0.0046 - accuracy: 0.9984\n",
      "Epoch 85/100\n",
      "175/175 [==============================] - 0s 1ms/step - loss: 0.0034 - accuracy: 0.9989\n",
      "Epoch 86/100\n",
      "175/175 [==============================] - 0s 1ms/step - loss: 0.0045 - accuracy: 0.9982\n",
      "Epoch 87/100\n",
      "175/175 [==============================] - 0s 1ms/step - loss: 0.0046 - accuracy: 0.9984\n",
      "Epoch 88/100\n",
      "175/175 [==============================] - 0s 1ms/step - loss: 0.0044 - accuracy: 0.9987\n",
      "Epoch 89/100\n",
      "175/175 [==============================] - 0s 1ms/step - loss: 0.0041 - accuracy: 0.9986\n",
      "Epoch 90/100\n",
      "175/175 [==============================] - 0s 970us/step - loss: 0.0036 - accuracy: 0.9984\n",
      "Epoch 91/100\n",
      "175/175 [==============================] - 0s 1ms/step - loss: 0.0039 - accuracy: 0.9984\n",
      "Epoch 92/100\n",
      "175/175 [==============================] - 0s 1ms/step - loss: 0.0044 - accuracy: 0.9982\n",
      "Epoch 93/100\n",
      "175/175 [==============================] - 0s 1ms/step - loss: 0.0027 - accuracy: 0.9987\n",
      "Epoch 94/100\n",
      "175/175 [==============================] - 0s 1ms/step - loss: 0.0051 - accuracy: 0.9984\n",
      "Epoch 95/100\n",
      "175/175 [==============================] - 0s 1ms/step - loss: 0.0043 - accuracy: 0.9986\n",
      "Epoch 96/100\n",
      "175/175 [==============================] - 0s 925us/step - loss: 0.0054 - accuracy: 0.9986\n",
      "Epoch 97/100\n",
      "175/175 [==============================] - 0s 910us/step - loss: 0.0054 - accuracy: 0.9979\n",
      "Epoch 98/100\n",
      "175/175 [==============================] - 0s 919us/step - loss: 0.0075 - accuracy: 0.9979\n",
      "Epoch 99/100\n",
      "175/175 [==============================] - 0s 925us/step - loss: 0.0042 - accuracy: 0.9984\n",
      "Epoch 100/100\n",
      "175/175 [==============================] - 0s 900us/step - loss: 0.0041 - accuracy: 0.9980\n"
     ]
    },
    {
     "data": {
      "text/plain": [
       "<keras.callbacks.History at 0x1690fcf65f0>"
      ]
     },
     "execution_count": 316,
     "metadata": {},
     "output_type": "execute_result"
    }
   ],
   "source": [
    "model.fit(X_train_pad, y_train_cat, epochs=100, batch_size=32, verbose=1)"
   ]
  },
  {
   "cell_type": "code",
   "execution_count": 317,
   "id": "d765e116",
   "metadata": {},
   "outputs": [
    {
     "name": "stdout",
     "output_type": "stream",
     "text": [
      "44/44 [==============================] - 0s 663us/step - loss: 2.0005 - accuracy: 0.8357\n",
      "44/44 [==============================] - 0s 641us/step\n",
      "[[4.2823476e-24 1.0000000e+00 1.5833036e-17 ... 6.2239690e-14\n",
      "  7.6874018e-27 9.5949978e-15]\n",
      " [4.4301977e-17 2.5756860e-18 3.4772473e-18 ... 4.9061323e-20\n",
      "  1.0000000e+00 1.2377262e-11]\n",
      " [4.7836145e-31 1.0637116e-29 1.4575721e-26 ... 4.5546334e-35\n",
      "  1.0000000e+00 3.7187978e-11]\n",
      " ...\n",
      " [1.5702383e-26 1.0000000e+00 3.9531932e-14 ... 5.2993504e-21\n",
      "  6.8879729e-27 2.0154962e-10]\n",
      " [0.0000000e+00 0.0000000e+00 0.0000000e+00 ... 0.0000000e+00\n",
      "  0.0000000e+00 6.5273597e-24]\n",
      " [4.5182467e-25 4.8742833e-11 8.1922045e-24 ... 1.0000000e+00\n",
      "  1.4003790e-14 7.6311224e-21]]\n",
      "Hasil Prediksi:  ['Keuangan' 'Pariwisata' 'Pariwisata' ... 'Keuangan' 'Olahraga' 'Otomotif']\n"
     ]
    }
   ],
   "source": [
    "loss, accuracy = model.evaluate(X_test_pad, y_test_cat)\n",
    "prediction = model.predict(X_test_pad)\n",
    "print(prediction)\n",
    "prediction_classes = np.argmax(prediction, axis=1)\n",
    "decoded_labels = encoder.inverse_transform(prediction_classes)\n",
    "print(\"Hasil Prediksi: \", decoded_labels)"
   ]
  },
  {
   "cell_type": "code",
   "execution_count": 318,
   "id": "f54bacc5",
   "metadata": {},
   "outputs": [],
   "source": [
    "def getData(kata):\n",
    "    input_data = {\n",
    "    \"content\": [\n",
    "            kata\n",
    "        ]\n",
    "    }\n",
    "    input_data_df = pd.DataFrame(input_data)\n",
    "    input_data_df[\"content\"] = input_data_df[\"content\"].apply(clean_text)\n",
    "    input_data_seq = tokenizer.texts_to_sequences(input_data_df[\"content\"])\n",
    "    input_data_pad = pad_sequences(input_data_seq, padding=\"post\", maxlen=50)\n",
    "    return input_data_pad\n",
    "\n",
    "def klasifikasi(text):\n",
    "    prediction = model.predict(getData(text))\n",
    "    prediction_classes = np.argmax(prediction, axis=1)\n",
    "    decoded_labels = encoder.inverse_transform(prediction_classes)\n",
    "    print(\"Hasil Klasifikasi:\", decoded_labels[0])"
   ]
  },
  {
   "cell_type": "code",
   "execution_count": 319,
   "id": "2585691f",
   "metadata": {},
   "outputs": [
    {
     "name": "stdout",
     "output_type": "stream",
     "text": [
      "1/1 [==============================] - 0s 14ms/step\n",
      "Hasil Klasifikasi: Keuangan\n"
     ]
    }
   ],
   "source": [
    "klasifikasi(\"Menteri pendidikan meminta untuk dimulainya pelajaran coding dari Sekolah Dasar\")"
   ]
  },
  {
   "cell_type": "code",
   "execution_count": 321,
   "id": "e21f6d39",
   "metadata": {},
   "outputs": [
    {
     "data": {
      "text/plain": [
       "['encoder.joblib']"
      ]
     },
     "execution_count": 321,
     "metadata": {},
     "output_type": "execute_result"
    }
   ],
   "source": [
    "model.save(\"model.h5\")\n",
    "joblib.dump(tokenizer, \"tokenizer.joblib\")\n",
    "joblib.dump(pad_sequences, \"padded.joblib\")\n",
    "joblib.dump(encoder, \"encoder.joblib\")"
   ]
  }
 ],
 "metadata": {
  "kernelspec": {
   "display_name": "tf",
   "language": "python",
   "name": "python3"
  },
  "language_info": {
   "codemirror_mode": {
    "name": "ipython",
    "version": 3
   },
   "file_extension": ".py",
   "mimetype": "text/x-python",
   "name": "python",
   "nbconvert_exporter": "python",
   "pygments_lexer": "ipython3",
   "version": "3.10.16"
  }
 },
 "nbformat": 4,
 "nbformat_minor": 5
}
